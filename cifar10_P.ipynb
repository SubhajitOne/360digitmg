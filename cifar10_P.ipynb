{
  "nbformat": 4,
  "nbformat_minor": 0,
  "metadata": {
    "colab": {
      "name": "cifar10_P.ipynb",
      "provenance": [],
      "collapsed_sections": [],
      "include_colab_link": true
    },
    "kernelspec": {
      "name": "python3",
      "display_name": "Python 3"
    }
  },
  "cells": [
    {
      "cell_type": "markdown",
      "metadata": {
        "id": "view-in-github",
        "colab_type": "text"
      },
      "source": [
        "<a href=\"https://colab.research.google.com/github/SubhajitOne/360digitmg/blob/main/cifar10_P.ipynb\" target=\"_parent\"><img src=\"https://colab.research.google.com/assets/colab-badge.svg\" alt=\"Open In Colab\"/></a>"
      ]
    },
    {
      "cell_type": "code",
      "metadata": {
        "id": "ExE42oz4ASaW"
      },
      "source": [
        "import tensorflow as tf"
      ],
      "execution_count": 1,
      "outputs": []
    },
    {
      "cell_type": "code",
      "metadata": {
        "id": "DerLIkyaWRqL"
      },
      "source": [
        "#Loading the data\r\n",
        "from tensorflow.keras.datasets import cifar10\r\n",
        "from tensorflow.keras.utils import to_categorical"
      ],
      "execution_count": 2,
      "outputs": []
    },
    {
      "cell_type": "code",
      "metadata": {
        "colab": {
          "base_uri": "https://localhost:8080/"
        },
        "id": "b8T6Prc3Z_3Z",
        "collapsed": true,
        "outputId": "635e760e-e00c-4178-e337-cf6ab7ef6ea6"
      },
      "source": [
        "(train_images,train_labels), (test_images,test_labels) = cifar10.load_data()"
      ],
      "execution_count": 3,
      "outputs": [
        {
          "output_type": "stream",
          "text": [
            "Downloading data from https://www.cs.toronto.edu/~kriz/cifar-10-python.tar.gz\n",
            "170500096/170498071 [==============================] - 4s 0us/step\n"
          ],
          "name": "stdout"
        }
      ]
    },
    {
      "cell_type": "code",
      "metadata": {
        "colab": {
          "base_uri": "https://localhost:8080/"
        },
        "id": "xuLoTmxQaWCI",
        "collapsed": true,
        "outputId": "e7483f37-221e-4212-bafd-3a388d17e628"
      },
      "source": [
        " train_images.shape, test_images.shape"
      ],
      "execution_count": 4,
      "outputs": [
        {
          "output_type": "execute_result",
          "data": {
            "text/plain": [
              "((50000, 32, 32, 3), (10000, 32, 32, 3))"
            ]
          },
          "metadata": {
            "tags": []
          },
          "execution_count": 4
        }
      ]
    },
    {
      "cell_type": "code",
      "metadata": {
        "colab": {
          "base_uri": "https://localhost:8080/"
        },
        "id": "eGf6cVw1brV_",
        "collapsed": true,
        "outputId": "09027ab6-3057-40f4-8761-7252e031e3d9"
      },
      "source": [
        "train_labels.shape, test_labels.shape"
      ],
      "execution_count": 5,
      "outputs": [
        {
          "output_type": "execute_result",
          "data": {
            "text/plain": [
              "((50000, 1), (10000, 1))"
            ]
          },
          "metadata": {
            "tags": []
          },
          "execution_count": 5
        }
      ]
    },
    {
      "cell_type": "code",
      "metadata": {
        "id": "HKUt0WY6dPx7"
      },
      "source": [
        "train_images = train_images.astype('float32') / 255"
      ],
      "execution_count": 6,
      "outputs": []
    },
    {
      "cell_type": "code",
      "metadata": {
        "id": "Xn0r0a-tgDda"
      },
      "source": [
        "test_images = test_images.astype('float32')/255"
      ],
      "execution_count": 7,
      "outputs": []
    },
    {
      "cell_type": "code",
      "metadata": {
        "id": "B4TW_f9ig0bD"
      },
      "source": [
        "train_labels = to_categorical(train_labels)"
      ],
      "execution_count": 8,
      "outputs": []
    },
    {
      "cell_type": "code",
      "metadata": {
        "id": "8G7EZrHXg-G8"
      },
      "source": [
        "test_labels = to_categorical(test_labels)"
      ],
      "execution_count": 9,
      "outputs": []
    },
    {
      "cell_type": "code",
      "metadata": {
        "id": "6C6GE1bihGc0"
      },
      "source": [
        "#Model Building\r\n",
        "from tensorflow.keras import layers, models"
      ],
      "execution_count": 10,
      "outputs": []
    },
    {
      "cell_type": "code",
      "metadata": {
        "colab": {
          "base_uri": "https://localhost:8080/"
        },
        "id": "daWddPTbhcQY",
        "collapsed": true,
        "outputId": "34ab7eb0-9ee8-4ae6-b91b-944750c546e4"
      },
      "source": [
        "model = models.Sequential()\r\n",
        "model.add(layers.Conv2D(10,(5,5), activation = 'relu', input_shape=(32,32,3)))\r\n",
        "model.add(layers.MaxPooling2D(2,2))\r\n",
        "model.add(layers.Conv2D(20, (5,5), activation = 'relu'))\r\n",
        "model.summary()"
      ],
      "execution_count": 11,
      "outputs": [
        {
          "output_type": "stream",
          "text": [
            "Model: \"sequential\"\n",
            "_________________________________________________________________\n",
            "Layer (type)                 Output Shape              Param #   \n",
            "=================================================================\n",
            "conv2d (Conv2D)              (None, 28, 28, 10)        760       \n",
            "_________________________________________________________________\n",
            "max_pooling2d (MaxPooling2D) (None, 14, 14, 10)        0         \n",
            "_________________________________________________________________\n",
            "conv2d_1 (Conv2D)            (None, 10, 10, 20)        5020      \n",
            "=================================================================\n",
            "Total params: 5,780\n",
            "Trainable params: 5,780\n",
            "Non-trainable params: 0\n",
            "_________________________________________________________________\n"
          ],
          "name": "stdout"
        }
      ]
    },
    {
      "cell_type": "code",
      "metadata": {
        "colab": {
          "base_uri": "https://localhost:8080/"
        },
        "id": "ccoJjiAjTIYD",
        "collapsed": true,
        "outputId": "b99f5c50-7290-46dd-b4fd-71a49001b192"
      },
      "source": [
        "model.add(layers.Flatten())\r\n",
        "model.add(layers.Dense(20, activation='relu'))\r\n",
        "model.add(layers.Dense(10, activation='softmax'))\r\n",
        "model.summary()"
      ],
      "execution_count": 12,
      "outputs": [
        {
          "output_type": "stream",
          "text": [
            "Model: \"sequential\"\n",
            "_________________________________________________________________\n",
            "Layer (type)                 Output Shape              Param #   \n",
            "=================================================================\n",
            "conv2d (Conv2D)              (None, 28, 28, 10)        760       \n",
            "_________________________________________________________________\n",
            "max_pooling2d (MaxPooling2D) (None, 14, 14, 10)        0         \n",
            "_________________________________________________________________\n",
            "conv2d_1 (Conv2D)            (None, 10, 10, 20)        5020      \n",
            "_________________________________________________________________\n",
            "flatten (Flatten)            (None, 2000)              0         \n",
            "_________________________________________________________________\n",
            "dense (Dense)                (None, 20)                40020     \n",
            "_________________________________________________________________\n",
            "dense_1 (Dense)              (None, 10)                210       \n",
            "=================================================================\n",
            "Total params: 46,010\n",
            "Trainable params: 46,010\n",
            "Non-trainable params: 0\n",
            "_________________________________________________________________\n"
          ],
          "name": "stdout"
        }
      ]
    },
    {
      "cell_type": "code",
      "metadata": {
        "id": "LefODQjOF7MF"
      },
      "source": [
        "model.compile(optimizer='rmsprop', loss='categorical_crossentropy',metrics=['accuracy'])"
      ],
      "execution_count": 13,
      "outputs": []
    },
    {
      "cell_type": "code",
      "metadata": {
        "id": "-RNmvMANGg9m",
        "colab": {
          "base_uri": "https://localhost:8080/"
        },
        "collapsed": true,
        "outputId": "2842dc3b-0535-48c6-b53d-9aa93127f50c"
      },
      "source": [
        "model.fit(train_images, train_labels, epochs=100, batch_size=64)"
      ],
      "execution_count": 16,
      "outputs": [
        {
          "output_type": "stream",
          "text": [
            "Epoch 1/100\n",
            "782/782 [==============================] - 3s 4ms/step - loss: 0.8313 - accuracy: 0.7117\n",
            "Epoch 2/100\n",
            "782/782 [==============================] - 3s 3ms/step - loss: 0.8177 - accuracy: 0.7154\n",
            "Epoch 3/100\n",
            "782/782 [==============================] - 2s 3ms/step - loss: 0.8023 - accuracy: 0.7208\n",
            "Epoch 4/100\n",
            "782/782 [==============================] - 3s 3ms/step - loss: 0.7890 - accuracy: 0.7258\n",
            "Epoch 5/100\n",
            "782/782 [==============================] - 3s 3ms/step - loss: 0.7794 - accuracy: 0.7281\n",
            "Epoch 6/100\n",
            "782/782 [==============================] - 3s 3ms/step - loss: 0.7646 - accuracy: 0.7318\n",
            "Epoch 7/100\n",
            "782/782 [==============================] - 3s 3ms/step - loss: 0.7535 - accuracy: 0.7363\n",
            "Epoch 8/100\n",
            "782/782 [==============================] - 2s 3ms/step - loss: 0.7409 - accuracy: 0.7410\n",
            "Epoch 9/100\n",
            "782/782 [==============================] - 3s 3ms/step - loss: 0.7308 - accuracy: 0.7456\n",
            "Epoch 10/100\n",
            "782/782 [==============================] - 3s 4ms/step - loss: 0.7192 - accuracy: 0.7483\n",
            "Epoch 11/100\n",
            "782/782 [==============================] - 3s 4ms/step - loss: 0.7096 - accuracy: 0.7525\n",
            "Epoch 12/100\n",
            "782/782 [==============================] - 3s 4ms/step - loss: 0.7000 - accuracy: 0.7550\n",
            "Epoch 13/100\n",
            "782/782 [==============================] - 3s 4ms/step - loss: 0.6912 - accuracy: 0.7599\n",
            "Epoch 14/100\n",
            "782/782 [==============================] - 3s 4ms/step - loss: 0.6790 - accuracy: 0.7628\n",
            "Epoch 15/100\n",
            "782/782 [==============================] - 3s 3ms/step - loss: 0.6711 - accuracy: 0.7640\n",
            "Epoch 16/100\n",
            "782/782 [==============================] - 3s 3ms/step - loss: 0.6639 - accuracy: 0.7674\n",
            "Epoch 17/100\n",
            "782/782 [==============================] - 3s 3ms/step - loss: 0.6522 - accuracy: 0.7723\n",
            "Epoch 18/100\n",
            "782/782 [==============================] - 3s 4ms/step - loss: 0.6469 - accuracy: 0.7736\n",
            "Epoch 19/100\n",
            "782/782 [==============================] - 3s 3ms/step - loss: 0.6361 - accuracy: 0.7772\n",
            "Epoch 20/100\n",
            "782/782 [==============================] - 3s 3ms/step - loss: 0.6286 - accuracy: 0.7794\n",
            "Epoch 21/100\n",
            "782/782 [==============================] - 3s 4ms/step - loss: 0.6248 - accuracy: 0.7815\n",
            "Epoch 22/100\n",
            "782/782 [==============================] - 3s 3ms/step - loss: 0.6149 - accuracy: 0.7847\n",
            "Epoch 23/100\n",
            "782/782 [==============================] - 3s 3ms/step - loss: 0.6093 - accuracy: 0.7863\n",
            "Epoch 24/100\n",
            "782/782 [==============================] - 3s 3ms/step - loss: 0.6023 - accuracy: 0.7892\n",
            "Epoch 25/100\n",
            "782/782 [==============================] - 3s 3ms/step - loss: 0.5935 - accuracy: 0.7927\n",
            "Epoch 26/100\n",
            "782/782 [==============================] - 3s 4ms/step - loss: 0.5876 - accuracy: 0.7926\n",
            "Epoch 27/100\n",
            "782/782 [==============================] - 3s 4ms/step - loss: 0.5837 - accuracy: 0.7956\n",
            "Epoch 28/100\n",
            "782/782 [==============================] - 3s 4ms/step - loss: 0.5749 - accuracy: 0.7995\n",
            "Epoch 29/100\n",
            "782/782 [==============================] - 3s 3ms/step - loss: 0.5726 - accuracy: 0.7982\n",
            "Epoch 30/100\n",
            "782/782 [==============================] - 3s 3ms/step - loss: 0.5671 - accuracy: 0.7992\n",
            "Epoch 31/100\n",
            "782/782 [==============================] - 3s 3ms/step - loss: 0.5597 - accuracy: 0.8013\n",
            "Epoch 32/100\n",
            "782/782 [==============================] - 3s 4ms/step - loss: 0.5546 - accuracy: 0.8054\n",
            "Epoch 33/100\n",
            "782/782 [==============================] - 3s 3ms/step - loss: 0.5473 - accuracy: 0.8090\n",
            "Epoch 34/100\n",
            "782/782 [==============================] - 3s 3ms/step - loss: 0.5433 - accuracy: 0.8086\n",
            "Epoch 35/100\n",
            "782/782 [==============================] - 3s 3ms/step - loss: 0.5377 - accuracy: 0.8111\n",
            "Epoch 36/100\n",
            "782/782 [==============================] - 3s 3ms/step - loss: 0.5333 - accuracy: 0.8103\n",
            "Epoch 37/100\n",
            "782/782 [==============================] - 3s 3ms/step - loss: 0.5289 - accuracy: 0.8144\n",
            "Epoch 38/100\n",
            "782/782 [==============================] - 3s 3ms/step - loss: 0.5232 - accuracy: 0.8146\n",
            "Epoch 39/100\n",
            "782/782 [==============================] - 2s 3ms/step - loss: 0.5200 - accuracy: 0.8184\n",
            "Epoch 40/100\n",
            "782/782 [==============================] - 2s 3ms/step - loss: 0.5147 - accuracy: 0.8215\n",
            "Epoch 41/100\n",
            "782/782 [==============================] - 3s 3ms/step - loss: 0.5118 - accuracy: 0.8197\n",
            "Epoch 42/100\n",
            "782/782 [==============================] - 2s 3ms/step - loss: 0.5075 - accuracy: 0.8230\n",
            "Epoch 43/100\n",
            "782/782 [==============================] - 3s 3ms/step - loss: 0.5023 - accuracy: 0.8227\n",
            "Epoch 44/100\n",
            "782/782 [==============================] - 3s 3ms/step - loss: 0.4987 - accuracy: 0.8257\n",
            "Epoch 45/100\n",
            "782/782 [==============================] - 3s 3ms/step - loss: 0.4937 - accuracy: 0.8268\n",
            "Epoch 46/100\n",
            "782/782 [==============================] - 3s 3ms/step - loss: 0.4898 - accuracy: 0.8265\n",
            "Epoch 47/100\n",
            "782/782 [==============================] - 3s 4ms/step - loss: 0.4858 - accuracy: 0.8279\n",
            "Epoch 48/100\n",
            "782/782 [==============================] - 3s 4ms/step - loss: 0.4814 - accuracy: 0.8304\n",
            "Epoch 49/100\n",
            "782/782 [==============================] - 3s 3ms/step - loss: 0.4822 - accuracy: 0.8307\n",
            "Epoch 50/100\n",
            "782/782 [==============================] - 3s 3ms/step - loss: 0.4753 - accuracy: 0.8323\n",
            "Epoch 51/100\n",
            "782/782 [==============================] - 3s 4ms/step - loss: 0.4746 - accuracy: 0.8320\n",
            "Epoch 52/100\n",
            "782/782 [==============================] - 2s 3ms/step - loss: 0.4688 - accuracy: 0.8321\n",
            "Epoch 53/100\n",
            "782/782 [==============================] - 2s 3ms/step - loss: 0.4669 - accuracy: 0.8347\n",
            "Epoch 54/100\n",
            "782/782 [==============================] - 3s 3ms/step - loss: 0.4625 - accuracy: 0.8364\n",
            "Epoch 55/100\n",
            "782/782 [==============================] - 3s 4ms/step - loss: 0.4585 - accuracy: 0.8366\n",
            "Epoch 56/100\n",
            "782/782 [==============================] - 3s 3ms/step - loss: 0.4586 - accuracy: 0.8386\n",
            "Epoch 57/100\n",
            "782/782 [==============================] - 3s 3ms/step - loss: 0.4542 - accuracy: 0.8393\n",
            "Epoch 58/100\n",
            "782/782 [==============================] - 3s 3ms/step - loss: 0.4493 - accuracy: 0.8420\n",
            "Epoch 59/100\n",
            "782/782 [==============================] - 3s 3ms/step - loss: 0.4464 - accuracy: 0.8421\n",
            "Epoch 60/100\n",
            "782/782 [==============================] - 3s 3ms/step - loss: 0.4405 - accuracy: 0.8434\n",
            "Epoch 61/100\n",
            "782/782 [==============================] - 3s 3ms/step - loss: 0.4417 - accuracy: 0.8423\n",
            "Epoch 62/100\n",
            "782/782 [==============================] - 2s 3ms/step - loss: 0.4380 - accuracy: 0.8449\n",
            "Epoch 63/100\n",
            "782/782 [==============================] - 3s 3ms/step - loss: 0.4339 - accuracy: 0.8453\n",
            "Epoch 64/100\n",
            "782/782 [==============================] - 3s 3ms/step - loss: 0.4300 - accuracy: 0.8465\n",
            "Epoch 65/100\n",
            "782/782 [==============================] - 3s 4ms/step - loss: 0.4289 - accuracy: 0.8475\n",
            "Epoch 66/100\n",
            "782/782 [==============================] - 3s 3ms/step - loss: 0.4272 - accuracy: 0.8483\n",
            "Epoch 67/100\n",
            "782/782 [==============================] - 3s 4ms/step - loss: 0.4230 - accuracy: 0.8484\n",
            "Epoch 68/100\n",
            "782/782 [==============================] - 3s 4ms/step - loss: 0.4178 - accuracy: 0.8520\n",
            "Epoch 69/100\n",
            "782/782 [==============================] - 3s 3ms/step - loss: 0.4176 - accuracy: 0.8512\n",
            "Epoch 70/100\n",
            "782/782 [==============================] - 3s 3ms/step - loss: 0.4162 - accuracy: 0.8510\n",
            "Epoch 71/100\n",
            "782/782 [==============================] - 2s 3ms/step - loss: 0.4117 - accuracy: 0.8550\n",
            "Epoch 72/100\n",
            "782/782 [==============================] - 3s 3ms/step - loss: 0.4108 - accuracy: 0.8542\n",
            "Epoch 73/100\n",
            "782/782 [==============================] - 3s 3ms/step - loss: 0.4061 - accuracy: 0.8542\n",
            "Epoch 74/100\n",
            "782/782 [==============================] - 3s 3ms/step - loss: 0.4084 - accuracy: 0.8553\n",
            "Epoch 75/100\n",
            "782/782 [==============================] - 3s 3ms/step - loss: 0.3989 - accuracy: 0.8585\n",
            "Epoch 76/100\n",
            "782/782 [==============================] - 3s 3ms/step - loss: 0.3982 - accuracy: 0.8586\n",
            "Epoch 77/100\n",
            "782/782 [==============================] - 3s 4ms/step - loss: 0.3960 - accuracy: 0.8601\n",
            "Epoch 78/100\n",
            "782/782 [==============================] - 3s 4ms/step - loss: 0.3968 - accuracy: 0.8608\n",
            "Epoch 79/100\n",
            "782/782 [==============================] - 3s 3ms/step - loss: 0.3922 - accuracy: 0.8608\n",
            "Epoch 80/100\n",
            "782/782 [==============================] - 2s 3ms/step - loss: 0.3917 - accuracy: 0.8617\n",
            "Epoch 81/100\n",
            "782/782 [==============================] - 2s 3ms/step - loss: 0.3906 - accuracy: 0.8625\n",
            "Epoch 82/100\n",
            "782/782 [==============================] - 3s 3ms/step - loss: 0.3897 - accuracy: 0.8611\n",
            "Epoch 83/100\n",
            "782/782 [==============================] - 3s 3ms/step - loss: 0.3858 - accuracy: 0.8623\n",
            "Epoch 84/100\n",
            "782/782 [==============================] - 3s 3ms/step - loss: 0.3862 - accuracy: 0.8644\n",
            "Epoch 85/100\n",
            "782/782 [==============================] - 3s 4ms/step - loss: 0.3819 - accuracy: 0.8629\n",
            "Epoch 86/100\n",
            "782/782 [==============================] - 3s 4ms/step - loss: 0.3786 - accuracy: 0.8661\n",
            "Epoch 87/100\n",
            "782/782 [==============================] - 3s 4ms/step - loss: 0.3776 - accuracy: 0.8658\n",
            "Epoch 88/100\n",
            "782/782 [==============================] - 3s 3ms/step - loss: 0.3745 - accuracy: 0.8675\n",
            "Epoch 89/100\n",
            "782/782 [==============================] - 3s 4ms/step - loss: 0.3722 - accuracy: 0.8674\n",
            "Epoch 90/100\n",
            "782/782 [==============================] - 3s 4ms/step - loss: 0.3706 - accuracy: 0.8683\n",
            "Epoch 91/100\n",
            "782/782 [==============================] - 3s 4ms/step - loss: 0.3685 - accuracy: 0.8693\n",
            "Epoch 92/100\n",
            "782/782 [==============================] - 3s 4ms/step - loss: 0.3706 - accuracy: 0.8679\n",
            "Epoch 93/100\n",
            "782/782 [==============================] - 3s 4ms/step - loss: 0.3657 - accuracy: 0.8703\n",
            "Epoch 94/100\n",
            "782/782 [==============================] - 3s 4ms/step - loss: 0.3637 - accuracy: 0.8709\n",
            "Epoch 95/100\n",
            "782/782 [==============================] - 3s 4ms/step - loss: 0.3614 - accuracy: 0.8722\n",
            "Epoch 96/100\n",
            "782/782 [==============================] - 3s 4ms/step - loss: 0.3609 - accuracy: 0.8735\n",
            "Epoch 97/100\n",
            "782/782 [==============================] - 3s 4ms/step - loss: 0.3582 - accuracy: 0.8740\n",
            "Epoch 98/100\n",
            "782/782 [==============================] - 3s 3ms/step - loss: 0.3589 - accuracy: 0.8735\n",
            "Epoch 99/100\n",
            "782/782 [==============================] - 3s 3ms/step - loss: 0.3532 - accuracy: 0.8745\n",
            "Epoch 100/100\n",
            "782/782 [==============================] - 3s 3ms/step - loss: 0.3536 - accuracy: 0.8745\n"
          ],
          "name": "stdout"
        },
        {
          "output_type": "execute_result",
          "data": {
            "text/plain": [
              "<tensorflow.python.keras.callbacks.History at 0x7f8c2804e1d0>"
            ]
          },
          "metadata": {
            "tags": []
          },
          "execution_count": 16
        }
      ]
    },
    {
      "cell_type": "code",
      "metadata": {
        "colab": {
          "base_uri": "https://localhost:8080/"
        },
        "collapsed": true,
        "id": "NdnM5Q3jHi5j",
        "outputId": "b8185180-876e-436a-9e17-c563374d9273"
      },
      "source": [
        "test_loss, test_acc = model.evaluate(test_images,test_labels, verbose=2)"
      ],
      "execution_count": 19,
      "outputs": [
        {
          "output_type": "stream",
          "text": [
            "313/313 - 1s - loss: 2.7710 - accuracy: 0.5711\n"
          ],
          "name": "stdout"
        }
      ]
    },
    {
      "cell_type": "code",
      "metadata": {
        "colab": {
          "base_uri": "https://localhost:8080/"
        },
        "collapsed": true,
        "id": "gOn6C2EJKCuC",
        "outputId": "3c14599c-cf11-49bd-f5b9-d08fd44d3f5b"
      },
      "source": [
        "train_loss, train_acc = model.evaluate(train_images,train_labels, verbose=2)"
      ],
      "execution_count": 21,
      "outputs": [
        {
          "output_type": "stream",
          "text": [
            "1563/1563 - 3s - loss: 0.3513 - accuracy: 0.8740\n"
          ],
          "name": "stdout"
        }
      ]
    },
    {
      "cell_type": "code",
      "metadata": {
        "id": "NeNwai7GKWKv"
      },
      "source": [
        ""
      ],
      "execution_count": null,
      "outputs": []
    }
  ]
}